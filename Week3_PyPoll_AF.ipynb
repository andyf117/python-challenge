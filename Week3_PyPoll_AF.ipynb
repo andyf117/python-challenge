{
 "cells": [
  {
   "cell_type": "code",
   "execution_count": 11,
   "metadata": {},
   "outputs": [],
   "source": [
    "import pandas as pd"
   ]
  },
  {
   "cell_type": "code",
   "execution_count": 12,
   "metadata": {},
   "outputs": [
    {
     "name": "stdout",
     "output_type": "stream",
     "text": [
      "         Voter ID   County Candidate\n",
      "0        12864552    Marsh      Khan\n",
      "1        17444633    Marsh    Correy\n",
      "2        19330107    Marsh      Khan\n",
      "3        19865775    Queen      Khan\n",
      "4        11927875    Marsh      Khan\n",
      "5        19014606    Marsh        Li\n",
      "6        17775191    Queen    Correy\n",
      "7        14003692    Marsh      Khan\n",
      "8        14255761    Marsh      Khan\n",
      "9        13870173    Marsh    Correy\n",
      "10       16793141    Marsh      Khan\n",
      "11       10591158    Bamoo    Correy\n",
      "12       12344763  Trandee      Khan\n",
      "13       18611011    Marsh      Khan\n",
      "14       17845903    Marsh    Correy\n",
      "15       12621425  Trandee      Khan\n",
      "16       14365844    Marsh    Correy\n",
      "17       13444989    Marsh    Correy\n",
      "18       19204501  Trandee      Khan\n",
      "19       10098063    Queen    Correy\n",
      "20       19843246    Marsh    Correy\n",
      "21       11509120    Marsh    Correy\n",
      "22       13402499    Marsh    Correy\n",
      "23       18138694    Marsh      Khan\n",
      "24       15056703    Marsh      Khan\n",
      "25       12026178    Queen      Khan\n",
      "26       16667390    Marsh      Khan\n",
      "27       12847422    Queen      Khan\n",
      "28       10599242    Marsh      Khan\n",
      "29       18558857    Queen    Correy\n",
      "...           ...      ...       ...\n",
      "3520971  17923362    Marsh      Khan\n",
      "3520972  11357988    Marsh      Khan\n",
      "3520973  13741548    Marsh    Correy\n",
      "3520974  19929693    Marsh      Khan\n",
      "3520975  16441960    Marsh      Khan\n",
      "3520976  19992954    Marsh  O'Tooley\n",
      "3520977  13845046    Marsh      Khan\n",
      "3520978  18550834    Marsh    Correy\n",
      "3520979  17540334    Queen      Khan\n",
      "3520980  11020483    Queen  O'Tooley\n",
      "3520981  15912885  Trandee      Khan\n",
      "3520982  12609301    Marsh      Khan\n",
      "3520983  14774584    Marsh        Li\n",
      "3520984  13283796    Marsh      Khan\n",
      "3520985  13359648    Bamoo      Khan\n",
      "3520986  17391173    Queen    Correy\n",
      "3520987  18995053    Queen      Khan\n",
      "3520988  11867516    Bamoo        Li\n",
      "3520989  18589143    Marsh      Khan\n",
      "3520990  12282098    Marsh      Khan\n",
      "3520991  16950418    Marsh    Correy\n",
      "3520992  13715415    Marsh      Khan\n",
      "3520993  18129849    Marsh      Khan\n",
      "3520994  15785886    Marsh    Correy\n",
      "3520995  12890090    Marsh    Correy\n",
      "3520996  18050509    Marsh      Khan\n",
      "3520997  13060332    Marsh      Khan\n",
      "3520998  16754708    Queen      Khan\n",
      "3520999  12083146    Queen      Khan\n",
      "3521000  14526187    Queen  O'Tooley\n",
      "\n",
      "[3521001 rows x 3 columns]\n"
     ]
    }
   ],
   "source": [
    "dataframe_ = pd.read_csv('election_data.csv')\n",
    "print(dataframe_)\n"
   ]
  },
  {
   "cell_type": "code",
   "execution_count": 13,
   "metadata": {},
   "outputs": [],
   "source": [
    "# `Voter ID`, `County`, and `Candidate`.\n",
    "\n",
    "#   * The total number of votes cast /\n",
    "\n",
    "#   * A complete list of candidates who received votes /\n",
    "\n",
    "#   * The percentage of votes each candidate won\n",
    "\n",
    "#   * The total number of votes each candidate won\n",
    "\n",
    "#   * The winner of the election based on popular vote."
   ]
  },
  {
   "cell_type": "code",
   "execution_count": 14,
   "metadata": {},
   "outputs": [
    {
     "name": "stdout",
     "output_type": "stream",
     "text": [
      "Votes casts is: 3521001\n"
     ]
    }
   ],
   "source": [
    "#Getting the length of voters ID list will give us how many voters voted\n",
    "votes_cast = dataframe_['Voter ID'].tolist() #ARRAY\n",
    "votes_cast = len(votes_cast) #Length of the array, and overwrite whats within the variable\n",
    "print(\"Votes casts is: \" + str(votes_cast))"
   ]
  },
  {
   "cell_type": "code",
   "execution_count": 30,
   "metadata": {},
   "outputs": [
    {
     "name": "stdout",
     "output_type": "stream",
     "text": [
      "These are the candidates: \n",
      "\n",
      "\n",
      "Khan\n",
      "O'Tooley\n",
      "Correy\n",
      "Li\n"
     ]
    }
   ],
   "source": [
    "#Getting the candidates Series\n",
    "#Then turn it to list\n",
    "#Delete duplicates\n",
    "#We'll get the list of candidates\n",
    "\n",
    "dict_list = []\n",
    "\n",
    "print(\"These are the candidates: \\n\\n\")\n",
    "candidates = dataframe_['Candidate'].tolist()\n",
    "candidates = list(dict.fromkeys(candidates)) #GIVES US THE UNIQUE VALUES WITHIN THE ARRAY IN THE VARIABLE 'candidates'\n",
    "\n",
    "for candidate in candidates:\n",
    "    print(candidate)"
   ]
  },
  {
   "cell_type": "code",
   "execution_count": 31,
   "metadata": {},
   "outputs": [
    {
     "name": "stdout",
     "output_type": "stream",
     "text": [
      "Khan\n",
      "O'Tooley\n",
      "Correy\n",
      "Li\n"
     ]
    }
   ],
   "source": [
    "\n",
    "candidates_ = dataframe_['Candidate']\n",
    "\n",
    "for candidate in candidates: #4 Iterations\n",
    "    print(str(candidate))\n",
    "    \n",
    "    frames = dataframe_.loc[dataframe_['Candidate'] == candidate] #Locates the rows/frames that has the item 'khan'\n",
    "    \n",
    "\n",
    "    percentage_won = (float(len(frames))/float(len(candidates_)))*100\n",
    "    \n",
    "    \n",
    "    #The located frames are the rows where the candidate in each iteration is voted\n",
    "    dict_ = {\n",
    "        \"Candidate\": candidate,\n",
    "        \"Votes\": str(len(frames)),\n",
    "        \"Percentage Won\": percentage_won,\n",
    "    }\n",
    "    dict_list.append(dict_)\n",
    "\n",
    "\n",
    "    "
   ]
  },
  {
   "cell_type": "code",
   "execution_count": 37,
   "metadata": {},
   "outputs": [
    {
     "name": "stdout",
     "output_type": "stream",
     "text": [
      "\n",
      "\n",
      "\n",
      "\n",
      "Candidate Khan won 2218231 which is 63.0000105084%\n",
      "Candidate O'Tooley won 105630 which is 2.99999914797%\n",
      "Candidate Correy won 704200 which is 19.9999943198%\n",
      "Candidate Li won 492940 which is 13.9999960239%\n",
      "Winner is: Khan\n"
     ]
    }
   ],
   "source": [
    "print(\"\\n\\n\\n\")\n",
    "\n",
    "votes = []\n",
    "for dict_ in dict_list:\n",
    "    votes.append(int(dict_['Votes']))\n",
    "    print(\"Candidate \" + str(dict_['Candidate']) + \" won \" + str(dict_['Votes']) + ' which is ' + str(dict_['Percentage Won']) +\"%\")\n",
    "\n",
    "\n",
    "won = max(votes)\n",
    "index_of_winner = votes.index(won)\n",
    "\n",
    "print(\"Winner is: \" + str(candidates[index_of_winner]))\n"
   ]
  },
  {
   "cell_type": "code",
   "execution_count": null,
   "metadata": {},
   "outputs": [],
   "source": []
  },
  {
   "cell_type": "code",
   "execution_count": null,
   "metadata": {},
   "outputs": [],
   "source": []
  }
 ],
 "metadata": {
  "kernelspec": {
   "display_name": "Python 2",
   "language": "python",
   "name": "python2"
  },
  "language_info": {
   "codemirror_mode": {
    "name": "ipython",
    "version": 2
   },
   "file_extension": ".py",
   "mimetype": "text/x-python",
   "name": "python",
   "nbconvert_exporter": "python",
   "pygments_lexer": "ipython2",
   "version": "2.7.15"
  }
 },
 "nbformat": 4,
 "nbformat_minor": 2
}
