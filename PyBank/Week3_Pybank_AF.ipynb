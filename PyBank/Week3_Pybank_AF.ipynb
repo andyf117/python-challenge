{
 "cells": [
  {
   "cell_type": "code",
   "execution_count": 27,
   "metadata": {},
   "outputs": [],
   "source": [
    "#READ THE CSV\n",
    "#GET THE DATA\n",
    "#PLAY WITH THE DATA/MANIPULATE\n",
    "#INTERPRET"
   ]
  },
  {
   "cell_type": "code",
   "execution_count": 28,
   "metadata": {},
   "outputs": [],
   "source": [
    "import pandas as pd"
   ]
  },
  {
   "cell_type": "code",
   "execution_count": 29,
   "metadata": {},
   "outputs": [],
   "source": [
    "dataframe_ = pd.read_csv('budget_data.csv')"
   ]
  },
  {
   "cell_type": "code",
   "execution_count": 32,
   "metadata": {},
   "outputs": [],
   "source": [
    "list_x = dataframe_['Date'].tolist()\n",
    "\n",
    "count_ = 0\n",
    "for item_x in list_x:\n",
    "    count_+=1\n",
    "\n",
    "    \n"
   ]
  },
  {
   "cell_type": "code",
   "execution_count": 33,
   "metadata": {},
   "outputs": [],
   "source": [
    "list_y = dataframe_['Profit/Losses'].tolist()\n",
    "\n",
    "total = 0\n",
    "\n",
    "lenth_list_y = len(list_y)\n",
    "\n",
    "for i in range(5,lenth_list_y):\n",
    "    total += int(list_y[i])\n",
    "\n",
    "\n"
   ]
  },
  {
   "cell_type": "code",
   "execution_count": 36,
   "metadata": {},
   "outputs": [],
   "source": [
    "# The net total amount of \"Profit/Losses\" over the entire period\n",
    "net_list = dataframe_['Profit/Losses'].tolist()\n",
    "\n",
    "net_total = 0\n",
    "\n",
    "length_net_list = len(net_list)\n",
    "\n",
    "for i in range(0, length_net_list):\n",
    "    net_total+=net_list[i]\n",
    "    \n",
    "net_string = str(net_total)\n",
    "\n"
   ]
  },
  {
   "cell_type": "code",
   "execution_count": 37,
   "metadata": {},
   "outputs": [],
   "source": [
    "#The average of the changes in \"Profit/Losses\" over the entire period\n",
    "average = net_total/len(net_list)\n",
    "\n",
    "average_string = str(average)\n"
   ]
  },
  {
   "cell_type": "code",
   "execution_count": 38,
   "metadata": {},
   "outputs": [],
   "source": [
    "max_ = max(net_list)\n",
    "min_ = min(net_list)\n"
   ]
  },
  {
   "cell_type": "code",
   "execution_count": 39,
   "metadata": {},
   "outputs": [
    {
     "name": "stdout",
     "output_type": "stream",
     "text": [
      "Financial Analysis\n",
      "-------------------\n",
      "Total Months: 86\n",
      "Total: 35966940\n",
      "The net total amount of Profit/Losses over the entire period is: 38382578\n",
      "The average of the changes in Profit/Losses over the entire period: 446309.0465116279\n",
      "Greatest Increase in Profits: 1170593\n",
      "Greatest Decrease in Profits: -1196225\n"
     ]
    }
   ],
   "source": [
    "print(\"Financial Analysis\")\n",
    "print(\"-------------------\")\n",
    "print(\"Total Months: \" + str(count_))\n",
    "print(\"Total: \" + str(total))\n",
    "print(\"The net total amount of Profit/Losses over the entire period is: \" + net_string)\n",
    "print(\"The average of the changes in Profit/Losses over the entire period: \" + average_string)\n",
    "print(\"Greatest Increase in Profits: \" + str(max_))\n",
    "print(\"Greatest Decrease in Profits: \" + str(min_))"
   ]
  }
 ],
 "metadata": {
  "kernelspec": {
   "display_name": "Python 3",
   "language": "python",
   "name": "python3"
  },
  "language_info": {
   "codemirror_mode": {
    "name": "ipython",
    "version": 3
   },
   "file_extension": ".py",
   "mimetype": "text/x-python",
   "name": "python",
   "nbconvert_exporter": "python",
   "pygments_lexer": "ipython3",
   "version": "3.7.3"
  }
 },
 "nbformat": 4,
 "nbformat_minor": 2
}
